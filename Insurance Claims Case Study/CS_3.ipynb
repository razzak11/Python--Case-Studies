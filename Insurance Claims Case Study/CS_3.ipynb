{
 "cells": [
  {
   "cell_type": "code",
   "execution_count": 99,
   "metadata": {},
   "outputs": [],
   "source": [
    "import numpy as np\n",
    "import pandas as pd\n",
    "import seaborn as sns\n",
    "import matplotlib.pyplot as plt\n",
    "\n",
    "pd.set_option(\"display.float_format\",lambda x: '%.1f' % x)"
   ]
  },
  {
   "cell_type": "code",
   "execution_count": 100,
   "metadata": {},
   "outputs": [],
   "source": [
    "from dateutil import parser\n",
    "\n",
    "'''Since claim_date column has discrepancy in date format like some dates are in m/d/y and some are in d-m-y therefore\n",
    "   the dates are handled using custom_date_parser whileloading the data. \n",
    "   \n",
    "   FUNCTION LOGIC EXPLANATION:\n",
    "    Inside the first try block say this date is \"3/22/2015\" entered, here the parser function will raise value error because as\n",
    "    the dayfirst is true it expects the month to be lower than 12 but here it is 22 hence it raises value error and the \n",
    "    next try block converts the date to correct y-m-d (default) format where dayfirst is False hence accurately handling the discrepancy.    '''\n",
    "\n",
    "def custom_date_parser(date_str):\n",
    "    try:\n",
    "        return parser.parse(date_str, dayfirst=True)\n",
    "    except ValueError:\n",
    "        try:\n",
    "            return parser.parse(date_str, dayfirst=False)\n",
    "        except ValueError:\n",
    "            return pd.NaT  \n",
    "\n",
    "# Load the Excel file with the custom date parser\n",
    "claims=pd.read_csv('claims.csv', parse_dates=['claim_date'], date_parser=custom_date_parser)\n",
    "cust=pd.read_csv(\"cust_demographics.csv\")"
   ]
  },
  {
   "cell_type": "code",
   "execution_count": 101,
   "metadata": {},
   "outputs": [
    {
     "data": {
      "text/html": [
       "<div>\n",
       "<style scoped>\n",
       "    .dataframe tbody tr th:only-of-type {\n",
       "        vertical-align: middle;\n",
       "    }\n",
       "\n",
       "    .dataframe tbody tr th {\n",
       "        vertical-align: top;\n",
       "    }\n",
       "\n",
       "    .dataframe thead th {\n",
       "        text-align: right;\n",
       "    }\n",
       "</style>\n",
       "<table border=\"1\" class=\"dataframe\">\n",
       "  <thead>\n",
       "    <tr style=\"text-align: right;\">\n",
       "      <th></th>\n",
       "      <th>claim_id</th>\n",
       "      <th>customer_id</th>\n",
       "      <th>incident_cause</th>\n",
       "      <th>claim_date</th>\n",
       "      <th>claim_area</th>\n",
       "      <th>police_report</th>\n",
       "      <th>claim_type</th>\n",
       "      <th>claim_amount</th>\n",
       "      <th>total_policy_claims</th>\n",
       "      <th>fraudulent</th>\n",
       "    </tr>\n",
       "  </thead>\n",
       "  <tbody>\n",
       "    <tr>\n",
       "      <th>0</th>\n",
       "      <td>54004764</td>\n",
       "      <td>21868593</td>\n",
       "      <td>Driver error</td>\n",
       "      <td>2017-11-27</td>\n",
       "      <td>Auto</td>\n",
       "      <td>No</td>\n",
       "      <td>Material only</td>\n",
       "      <td>$2980</td>\n",
       "      <td>1.0</td>\n",
       "      <td>No</td>\n",
       "    </tr>\n",
       "    <tr>\n",
       "      <th>1</th>\n",
       "      <td>33985796</td>\n",
       "      <td>75740424</td>\n",
       "      <td>Crime</td>\n",
       "      <td>2018-03-10</td>\n",
       "      <td>Home</td>\n",
       "      <td>Unknown</td>\n",
       "      <td>Material only</td>\n",
       "      <td>$2980</td>\n",
       "      <td>3.0</td>\n",
       "      <td>No</td>\n",
       "    </tr>\n",
       "    <tr>\n",
       "      <th>2</th>\n",
       "      <td>53522022</td>\n",
       "      <td>30308357</td>\n",
       "      <td>Other driver error</td>\n",
       "      <td>2018-02-02</td>\n",
       "      <td>Auto</td>\n",
       "      <td>No</td>\n",
       "      <td>Material only</td>\n",
       "      <td>$3369.5</td>\n",
       "      <td>1.0</td>\n",
       "      <td>Yes</td>\n",
       "    </tr>\n",
       "    <tr>\n",
       "      <th>3</th>\n",
       "      <td>13015401</td>\n",
       "      <td>47830476</td>\n",
       "      <td>Natural causes</td>\n",
       "      <td>2018-06-17</td>\n",
       "      <td>Auto</td>\n",
       "      <td>No</td>\n",
       "      <td>Material only</td>\n",
       "      <td>$1680</td>\n",
       "      <td>1.0</td>\n",
       "      <td>No</td>\n",
       "    </tr>\n",
       "    <tr>\n",
       "      <th>4</th>\n",
       "      <td>22890252</td>\n",
       "      <td>19269962</td>\n",
       "      <td>Crime</td>\n",
       "      <td>2018-01-13</td>\n",
       "      <td>Auto</td>\n",
       "      <td>No</td>\n",
       "      <td>Material only</td>\n",
       "      <td>$2680</td>\n",
       "      <td>1.0</td>\n",
       "      <td>No</td>\n",
       "    </tr>\n",
       "    <tr>\n",
       "      <th>5</th>\n",
       "      <td>24050443</td>\n",
       "      <td>21831191</td>\n",
       "      <td>Other driver error</td>\n",
       "      <td>2017-04-10</td>\n",
       "      <td>Auto</td>\n",
       "      <td>No</td>\n",
       "      <td>Injury only</td>\n",
       "      <td>$38306.5</td>\n",
       "      <td>3.0</td>\n",
       "      <td>Yes</td>\n",
       "    </tr>\n",
       "    <tr>\n",
       "      <th>6</th>\n",
       "      <td>12878692</td>\n",
       "      <td>18401412</td>\n",
       "      <td>Driver error</td>\n",
       "      <td>2018-01-13</td>\n",
       "      <td>Auto</td>\n",
       "      <td>No</td>\n",
       "      <td>Material only</td>\n",
       "      <td>$1730</td>\n",
       "      <td>4.0</td>\n",
       "      <td>No</td>\n",
       "    </tr>\n",
       "    <tr>\n",
       "      <th>7</th>\n",
       "      <td>27026412</td>\n",
       "      <td>73486606</td>\n",
       "      <td>Natural causes</td>\n",
       "      <td>2018-10-04</td>\n",
       "      <td>Auto</td>\n",
       "      <td>No</td>\n",
       "      <td>Material only</td>\n",
       "      <td>$1160</td>\n",
       "      <td>3.0</td>\n",
       "      <td>No</td>\n",
       "    </tr>\n",
       "    <tr>\n",
       "      <th>8</th>\n",
       "      <td>43908336</td>\n",
       "      <td>32813689</td>\n",
       "      <td>Crime</td>\n",
       "      <td>2018-02-15</td>\n",
       "      <td>Auto</td>\n",
       "      <td>Unknown</td>\n",
       "      <td>Material only</td>\n",
       "      <td>$2620</td>\n",
       "      <td>1.0</td>\n",
       "      <td>No</td>\n",
       "    </tr>\n",
       "    <tr>\n",
       "      <th>9</th>\n",
       "      <td>63246959</td>\n",
       "      <td>33507197</td>\n",
       "      <td>Crime</td>\n",
       "      <td>2017-07-22</td>\n",
       "      <td>Auto</td>\n",
       "      <td>No</td>\n",
       "      <td>Material only</td>\n",
       "      <td>$2748.5</td>\n",
       "      <td>2.0</td>\n",
       "      <td>Yes</td>\n",
       "    </tr>\n",
       "  </tbody>\n",
       "</table>\n",
       "</div>"
      ],
      "text/plain": [
       "   claim_id  customer_id      incident_cause claim_date claim_area  \\\n",
       "0  54004764     21868593        Driver error 2017-11-27       Auto   \n",
       "1  33985796     75740424               Crime 2018-03-10       Home   \n",
       "2  53522022     30308357  Other driver error 2018-02-02       Auto   \n",
       "3  13015401     47830476      Natural causes 2018-06-17       Auto   \n",
       "4  22890252     19269962               Crime 2018-01-13       Auto   \n",
       "5  24050443     21831191  Other driver error 2017-04-10       Auto   \n",
       "6  12878692     18401412        Driver error 2018-01-13       Auto   \n",
       "7  27026412     73486606      Natural causes 2018-10-04       Auto   \n",
       "8  43908336     32813689               Crime 2018-02-15       Auto   \n",
       "9  63246959     33507197               Crime 2017-07-22       Auto   \n",
       "\n",
       "  police_report     claim_type claim_amount  total_policy_claims fraudulent  \n",
       "0            No  Material only        $2980                  1.0         No  \n",
       "1       Unknown  Material only        $2980                  3.0         No  \n",
       "2            No  Material only      $3369.5                  1.0        Yes  \n",
       "3            No  Material only        $1680                  1.0         No  \n",
       "4            No  Material only        $2680                  1.0         No  \n",
       "5            No    Injury only     $38306.5                  3.0        Yes  \n",
       "6            No  Material only        $1730                  4.0         No  \n",
       "7            No  Material only        $1160                  3.0         No  \n",
       "8       Unknown  Material only        $2620                  1.0         No  \n",
       "9            No  Material only      $2748.5                  2.0        Yes  "
      ]
     },
     "execution_count": 101,
     "metadata": {},
     "output_type": "execute_result"
    }
   ],
   "source": [
    "claims.head(10)"
   ]
  },
  {
   "cell_type": "code",
   "execution_count": 102,
   "metadata": {},
   "outputs": [
    {
     "data": {
      "text/html": [
       "<div>\n",
       "<style scoped>\n",
       "    .dataframe tbody tr th:only-of-type {\n",
       "        vertical-align: middle;\n",
       "    }\n",
       "\n",
       "    .dataframe tbody tr th {\n",
       "        vertical-align: top;\n",
       "    }\n",
       "\n",
       "    .dataframe thead th {\n",
       "        text-align: right;\n",
       "    }\n",
       "</style>\n",
       "<table border=\"1\" class=\"dataframe\">\n",
       "  <thead>\n",
       "    <tr style=\"text-align: right;\">\n",
       "      <th></th>\n",
       "      <th>CUST_ID</th>\n",
       "      <th>gender</th>\n",
       "      <th>DateOfBirth</th>\n",
       "      <th>State</th>\n",
       "      <th>Contact</th>\n",
       "      <th>Segment</th>\n",
       "    </tr>\n",
       "  </thead>\n",
       "  <tbody>\n",
       "    <tr>\n",
       "      <th>0</th>\n",
       "      <td>21868593</td>\n",
       "      <td>Female</td>\n",
       "      <td>12-Jan-79</td>\n",
       "      <td>VT</td>\n",
       "      <td>789-916-8172</td>\n",
       "      <td>Platinum</td>\n",
       "    </tr>\n",
       "    <tr>\n",
       "      <th>1</th>\n",
       "      <td>75740424</td>\n",
       "      <td>Female</td>\n",
       "      <td>13-Jan-70</td>\n",
       "      <td>ME</td>\n",
       "      <td>265-543-1264</td>\n",
       "      <td>Silver</td>\n",
       "    </tr>\n",
       "    <tr>\n",
       "      <th>2</th>\n",
       "      <td>30308357</td>\n",
       "      <td>Female</td>\n",
       "      <td>11-Mar-84</td>\n",
       "      <td>TN</td>\n",
       "      <td>798-631-4758</td>\n",
       "      <td>Silver</td>\n",
       "    </tr>\n",
       "    <tr>\n",
       "      <th>3</th>\n",
       "      <td>47830476</td>\n",
       "      <td>Female</td>\n",
       "      <td>01-May-86</td>\n",
       "      <td>MA</td>\n",
       "      <td>413-187-7945</td>\n",
       "      <td>Silver</td>\n",
       "    </tr>\n",
       "    <tr>\n",
       "      <th>4</th>\n",
       "      <td>19269962</td>\n",
       "      <td>Male</td>\n",
       "      <td>13-May-77</td>\n",
       "      <td>NV</td>\n",
       "      <td>956-871-8691</td>\n",
       "      <td>Gold</td>\n",
       "    </tr>\n",
       "    <tr>\n",
       "      <th>...</th>\n",
       "      <td>...</td>\n",
       "      <td>...</td>\n",
       "      <td>...</td>\n",
       "      <td>...</td>\n",
       "      <td>...</td>\n",
       "      <td>...</td>\n",
       "    </tr>\n",
       "    <tr>\n",
       "      <th>1080</th>\n",
       "      <td>79539873</td>\n",
       "      <td>Female</td>\n",
       "      <td>15-Mar-81</td>\n",
       "      <td>ND</td>\n",
       "      <td>459-425-4319</td>\n",
       "      <td>Platinum</td>\n",
       "    </tr>\n",
       "    <tr>\n",
       "      <th>1081</th>\n",
       "      <td>42364152</td>\n",
       "      <td>Female</td>\n",
       "      <td>07-Jul-96</td>\n",
       "      <td>ID</td>\n",
       "      <td>529-462-1635</td>\n",
       "      <td>Silver</td>\n",
       "    </tr>\n",
       "    <tr>\n",
       "      <th>1082</th>\n",
       "      <td>19888166</td>\n",
       "      <td>Male</td>\n",
       "      <td>11-Apr-90</td>\n",
       "      <td>WI</td>\n",
       "      <td>712-651-9613</td>\n",
       "      <td>Gold</td>\n",
       "    </tr>\n",
       "    <tr>\n",
       "      <th>1083</th>\n",
       "      <td>11256802</td>\n",
       "      <td>Female</td>\n",
       "      <td>22-Oct-64</td>\n",
       "      <td>LA</td>\n",
       "      <td>469-345-5617</td>\n",
       "      <td>Silver</td>\n",
       "    </tr>\n",
       "    <tr>\n",
       "      <th>1084</th>\n",
       "      <td>61575264</td>\n",
       "      <td>Male</td>\n",
       "      <td>12-Jul-95</td>\n",
       "      <td>WY</td>\n",
       "      <td>182-385-1392</td>\n",
       "      <td>Gold</td>\n",
       "    </tr>\n",
       "  </tbody>\n",
       "</table>\n",
       "<p>1085 rows × 6 columns</p>\n",
       "</div>"
      ],
      "text/plain": [
       "       CUST_ID  gender DateOfBirth State       Contact   Segment\n",
       "0     21868593  Female   12-Jan-79    VT  789-916-8172  Platinum\n",
       "1     75740424  Female   13-Jan-70    ME  265-543-1264    Silver\n",
       "2     30308357  Female   11-Mar-84    TN  798-631-4758    Silver\n",
       "3     47830476  Female   01-May-86    MA  413-187-7945    Silver\n",
       "4     19269962    Male   13-May-77    NV  956-871-8691      Gold\n",
       "...        ...     ...         ...   ...           ...       ...\n",
       "1080  79539873  Female   15-Mar-81    ND  459-425-4319  Platinum\n",
       "1081  42364152  Female   07-Jul-96    ID  529-462-1635    Silver\n",
       "1082  19888166    Male   11-Apr-90    WI  712-651-9613      Gold\n",
       "1083  11256802  Female   22-Oct-64    LA  469-345-5617    Silver\n",
       "1084  61575264    Male   12-Jul-95    WY  182-385-1392      Gold\n",
       "\n",
       "[1085 rows x 6 columns]"
      ]
     },
     "execution_count": 102,
     "metadata": {},
     "output_type": "execute_result"
    }
   ],
   "source": [
    "cust"
   ]
  },
  {
   "cell_type": "markdown",
   "metadata": {},
   "source": [
    "No of customers who made no claims"
   ]
  },
  {
   "cell_type": "code",
   "execution_count": 103,
   "metadata": {},
   "outputs": [
    {
     "name": "stdout",
     "output_type": "stream",
     "text": [
      "Left join on customer:  (1092, 16)\n",
      "Customers who have not made any claims: [38183238 48335931 74888099 36009093 60016590 96861647 70659761]\n"
     ]
    },
    {
     "data": {
      "text/html": [
       "<div>\n",
       "<style scoped>\n",
       "    .dataframe tbody tr th:only-of-type {\n",
       "        vertical-align: middle;\n",
       "    }\n",
       "\n",
       "    .dataframe tbody tr th {\n",
       "        vertical-align: top;\n",
       "    }\n",
       "\n",
       "    .dataframe thead th {\n",
       "        text-align: right;\n",
       "    }\n",
       "</style>\n",
       "<table border=\"1\" class=\"dataframe\">\n",
       "  <thead>\n",
       "    <tr style=\"text-align: right;\">\n",
       "      <th></th>\n",
       "      <th>claim_id</th>\n",
       "      <th>customer_id</th>\n",
       "      <th>incident_cause</th>\n",
       "      <th>claim_date</th>\n",
       "      <th>claim_area</th>\n",
       "      <th>police_report</th>\n",
       "      <th>claim_type</th>\n",
       "      <th>claim_amount</th>\n",
       "      <th>total_policy_claims</th>\n",
       "      <th>fraudulent</th>\n",
       "    </tr>\n",
       "  </thead>\n",
       "  <tbody>\n",
       "  </tbody>\n",
       "</table>\n",
       "</div>"
      ],
      "text/plain": [
       "Empty DataFrame\n",
       "Columns: [claim_id, customer_id, incident_cause, claim_date, claim_area, police_report, claim_type, claim_amount, total_policy_claims, fraudulent]\n",
       "Index: []"
      ]
     },
     "execution_count": 103,
     "metadata": {},
     "output_type": "execute_result"
    }
   ],
   "source": [
    "df=pd.merge(cust,claims,left_on=\"CUST_ID\",right_on=\"customer_id\",how=\"left\")\n",
    "print('Left join on customer: ',df.shape)\n",
    "cust_no_claims_idx=df[(df.customer_id.isna())].CUST_ID.unique()\n",
    "\n",
    "print(\"Customers who have not made any claims:\",cust_no_claims_idx)\n",
    "claims.loc[claims.customer_id.isin(cust_no_claims_idx)]"
   ]
  },
  {
   "cell_type": "markdown",
   "metadata": {},
   "source": [
    "Total claims for which customer info is not available in data"
   ]
  },
  {
   "cell_type": "code",
   "execution_count": 104,
   "metadata": {},
   "outputs": [
    {
     "data": {
      "text/plain": [
       "15"
      ]
     },
     "execution_count": 104,
     "metadata": {},
     "output_type": "execute_result"
    }
   ],
   "source": [
    "pd.merge(cust,claims,left_on=\"CUST_ID\",right_on=\"customer_id\",how=\"right\").CUST_ID.isnull().sum()"
   ]
  },
  {
   "cell_type": "markdown",
   "metadata": {},
   "source": [
    "Customers who have made claims more than once."
   ]
  },
  {
   "cell_type": "code",
   "execution_count": 105,
   "metadata": {},
   "outputs": [
    {
     "name": "stdout",
     "output_type": "stream",
     "text": [
      "7\n"
     ]
    },
    {
     "data": {
      "text/plain": [
       "(14, 16)"
      ]
     },
     "execution_count": 105,
     "metadata": {},
     "output_type": "execute_result"
    }
   ],
   "source": [
    " \n",
    "condition=df.customer_id.value_counts()>=2\n",
    "print(condition[condition].size)\n",
    "df[df.customer_id.isin(condition[condition].index)].shape"
   ]
  },
  {
   "cell_type": "code",
   "execution_count": 106,
   "metadata": {},
   "outputs": [
    {
     "name": "stdout",
     "output_type": "stream",
     "text": [
      "(1085, 16)\n"
     ]
    },
    {
     "data": {
      "text/plain": [
       "'So in summary: \\n   \\n   out of 1085 customers only 1078 made claims.\\n   Out of 1100 total claims only for 1085 claims the customer info is availale to us.\\n   1071 customers have made only one claim where as the 7 customers have made claims twice (14) i.e 1071+14=1085.\\n   \\n   '"
      ]
     },
     "execution_count": 106,
     "metadata": {},
     "output_type": "execute_result"
    }
   ],
   "source": [
    "# So making a datframe with inner logic instead of left or right  logic\n",
    "df=pd.merge(cust,claims,left_on=\"CUST_ID\",right_on=\"customer_id\",how=\"inner\")\n",
    "print(df.shape)\n",
    "\n",
    "'''So in summary: \n",
    "   \n",
    "   out of 1085 customers only 1078 made claims.\n",
    "   Out of 1100 total claims only for 1085 claims the customer info is availale to us.\n",
    "   1071 customers have made only one claim where as the 7 customers have made claims twice (14) i.e 1071+14=1085.\n",
    "   \n",
    "   '''\n",
    "\n"
   ]
  },
  {
   "cell_type": "code",
   "execution_count": 107,
   "metadata": {},
   "outputs": [
    {
     "data": {
      "text/plain": [
       "Index(['cust_id', 'gender', 'dateofbirth', 'state', 'contact', 'segment',\n",
       "       'claim_id', 'customer_id', 'incident_cause', 'claim_date', 'claim_area',\n",
       "       'police_report', 'claim_type', 'claim_amount', 'total_policy_claims',\n",
       "       'fraudulent'],\n",
       "      dtype='object')"
      ]
     },
     "execution_count": 107,
     "metadata": {},
     "output_type": "execute_result"
    }
   ],
   "source": [
    "# Formatting column names to their lower case\n",
    "df.columns=df.columns.map(lambda x: x.lower())\n",
    "df.columns"
   ]
  },
  {
   "cell_type": "markdown",
   "metadata": {},
   "source": [
    "## 2. Changing datatypes\n",
    "- date columns to datetime"
   ]
  },
  {
   "cell_type": "code",
   "execution_count": 108,
   "metadata": {},
   "outputs": [
    {
     "data": {
      "text/plain": [
       "cust_id                         int64\n",
       "gender                         object\n",
       "dateofbirth                    object\n",
       "state                          object\n",
       "contact                        object\n",
       "segment                        object\n",
       "claim_id                        int64\n",
       "customer_id                     int64\n",
       "incident_cause                 object\n",
       "claim_date             datetime64[ns]\n",
       "claim_area                     object\n",
       "police_report                  object\n",
       "claim_type                     object\n",
       "claim_amount                   object\n",
       "total_policy_claims           float64\n",
       "fraudulent                     object\n",
       "dtype: object"
      ]
     },
     "execution_count": 108,
     "metadata": {},
     "output_type": "execute_result"
    }
   ],
   "source": [
    "df.dtypes"
   ]
  },
  {
   "cell_type": "code",
   "execution_count": 109,
   "metadata": {},
   "outputs": [
    {
     "name": "stdout",
     "output_type": "stream",
     "text": [
      "1999-12-27 00:00:00   1960-01-16 00:00:00\n"
     ]
    }
   ],
   "source": [
    "def adjust_year(yr):\n",
    "    return \"19\"+yr\n",
    "\n",
    "df['dateofbirth'] = pd.to_datetime(df['dateofbirth'].str[:-2] + df['dateofbirth'].str[-2:].apply(adjust_year), format='%d-%b-%Y')\n",
    "print(df.dateofbirth.max(),\" \" ,df.dateofbirth.min())\n",
    "\n"
   ]
  },
  {
   "cell_type": "code",
   "execution_count": 110,
   "metadata": {},
   "outputs": [
    {
     "name": "stdout",
     "output_type": "stream",
     "text": [
      "<class 'pandas.core.frame.DataFrame'>\n",
      "Int64Index: 1085 entries, 0 to 1084\n",
      "Data columns (total 16 columns):\n",
      " #   Column               Non-Null Count  Dtype         \n",
      "---  ------               --------------  -----         \n",
      " 0   cust_id              1085 non-null   int64         \n",
      " 1   gender               1085 non-null   object        \n",
      " 2   dateofbirth          1085 non-null   datetime64[ns]\n",
      " 3   state                1085 non-null   object        \n",
      " 4   contact              1085 non-null   object        \n",
      " 5   segment              1085 non-null   object        \n",
      " 6   claim_id             1085 non-null   int64         \n",
      " 7   customer_id          1085 non-null   int64         \n",
      " 8   incident_cause       1085 non-null   object        \n",
      " 9   claim_date           1085 non-null   datetime64[ns]\n",
      " 10  claim_area           1085 non-null   object        \n",
      " 11  police_report        1085 non-null   object        \n",
      " 12  claim_type           1085 non-null   object        \n",
      " 13  claim_amount         1020 non-null   object        \n",
      " 14  total_policy_claims  1075 non-null   float64       \n",
      " 15  fraudulent           1085 non-null   object        \n",
      "dtypes: datetime64[ns](2), float64(1), int64(3), object(10)\n",
      "memory usage: 144.1+ KB\n"
     ]
    }
   ],
   "source": [
    "df.info()"
   ]
  },
  {
   "cell_type": "markdown",
   "metadata": {},
   "source": [
    "## 3. Changing the amount column's data type to numeric"
   ]
  },
  {
   "cell_type": "code",
   "execution_count": 111,
   "metadata": {},
   "outputs": [
    {
     "data": {
      "text/plain": [
       "0         $2980\n",
       "1         $2980\n",
       "2       $3369.5\n",
       "3         $1950\n",
       "4         $1680\n",
       "         ...   \n",
       "1080      $1770\n",
       "1081      $2800\n",
       "1082     $33080\n",
       "1083      $2840\n",
       "1084      $1490\n",
       "Name: claim_amount, Length: 1085, dtype: object"
      ]
     },
     "execution_count": 111,
     "metadata": {},
     "output_type": "execute_result"
    }
   ],
   "source": [
    "df.claim_amount"
   ]
  },
  {
   "cell_type": "code",
   "execution_count": 112,
   "metadata": {},
   "outputs": [],
   "source": [
    "def fun(x):\n",
    "    if  type(x)==str:     \n",
    "        x=x[1:]\n",
    "        x=float(x)\n",
    "    if type(x)==float:  # NaN in our amount column is of 'float' type\n",
    "        return x    \n",
    "\n",
    "df.claim_amount= df.claim_amount.apply(fun)"
   ]
  },
  {
   "cell_type": "code",
   "execution_count": 113,
   "metadata": {},
   "outputs": [
    {
     "data": {
      "text/plain": [
       "0       2980.0\n",
       "1       2980.0\n",
       "2       3369.5\n",
       "3       1950.0\n",
       "4       1680.0\n",
       "         ...  \n",
       "1080    1770.0\n",
       "1081    2800.0\n",
       "1082   33080.0\n",
       "1083    2840.0\n",
       "1084    1490.0\n",
       "Name: claim_amount, Length: 1085, dtype: float64"
      ]
     },
     "execution_count": 113,
     "metadata": {},
     "output_type": "execute_result"
    }
   ],
   "source": [
    "df.claim_amount"
   ]
  },
  {
   "cell_type": "markdown",
   "metadata": {},
   "source": [
    "## 4. Of all the injury claims, some of them have gone unreported with the police. Create an alert flag (1,0) for all such claims."
   ]
  },
  {
   "cell_type": "code",
   "execution_count": 114,
   "metadata": {},
   "outputs": [
    {
     "data": {
      "text/plain": [
       "No         621\n",
       "Unknown    296\n",
       "Yes        168\n",
       "Name: police_report, dtype: int64"
      ]
     },
     "execution_count": 114,
     "metadata": {},
     "output_type": "execute_result"
    }
   ],
   "source": [
    "df.police_report.value_counts()"
   ]
  },
  {
   "cell_type": "code",
   "execution_count": 115,
   "metadata": {},
   "outputs": [
    {
     "data": {
      "text/plain": [
       "Material only          653\n",
       "Material and injury    237\n",
       "Injury only            195\n",
       "Name: claim_type, dtype: int64"
      ]
     },
     "execution_count": 115,
     "metadata": {},
     "output_type": "execute_result"
    }
   ],
   "source": [
    "df.claim_type.value_counts()"
   ]
  },
  {
   "cell_type": "code",
   "execution_count": 116,
   "metadata": {},
   "outputs": [],
   "source": [
    "injury_claims_idx=df.claim_type[df.claim_type.str.contains(\"injury\",case=False)].index\n",
    "\n",
    "def fun(x):\n",
    "    if x=='No':\n",
    "        return 1\n",
    "    elif x=='Yes':\n",
    "        return 0\n",
    "    else:            # For the records which are unknown in injury claims are left as unknown So the alert flag contains 0,1,unknown\n",
    "        return x\n",
    "\n",
    "df[\"alert_flag\"]= df.loc[injury_claims_idx]['police_report'].apply(fun)"
   ]
  },
  {
   "cell_type": "code",
   "execution_count": 118,
   "metadata": {},
   "outputs": [
    {
     "data": {
      "text/plain": [
       "Unknown    150\n",
       "1          147\n",
       "0          135\n",
       "Name: alert_flag, dtype: int64"
      ]
     },
     "execution_count": 118,
     "metadata": {},
     "output_type": "execute_result"
    }
   ],
   "source": [
    "df['alert_flag'].value_counts() \n",
    "\n",
    "'''Note that the rest of the data i.e 1085-432=653 is NaN because we are only asked to flag injury related claims. '''"
   ]
  },
  {
   "cell_type": "markdown",
   "metadata": {},
   "source": [
    "## 5. Retain the most recent observation and delete any duplicated records in the data based on the customer ID column."
   ]
  },
  {
   "cell_type": "code",
   "execution_count": 120,
   "metadata": {},
   "outputs": [
    {
     "data": {
      "text/plain": [
       "False"
      ]
     },
     "execution_count": 120,
     "metadata": {},
     "output_type": "execute_result"
    }
   ],
   "source": [
    "df.duplicated().any()\n",
    "\n",
    "'''There is no duplicated record in the df.'''"
   ]
  },
  {
   "cell_type": "markdown",
   "metadata": {},
   "source": [
    "## 6. Check for missing values and impute the missing values with an appropriate value. (mean for continuous and mode for categorical)"
   ]
  },
  {
   "cell_type": "code",
   "execution_count": 121,
   "metadata": {},
   "outputs": [
    {
     "name": "stdout",
     "output_type": "stream",
     "text": [
      "<class 'pandas.core.frame.DataFrame'>\n",
      "Int64Index: 1085 entries, 0 to 1084\n",
      "Data columns (total 17 columns):\n",
      " #   Column               Non-Null Count  Dtype         \n",
      "---  ------               --------------  -----         \n",
      " 0   cust_id              1085 non-null   int64         \n",
      " 1   gender               1085 non-null   object        \n",
      " 2   dateofbirth          1085 non-null   datetime64[ns]\n",
      " 3   state                1085 non-null   object        \n",
      " 4   contact              1085 non-null   object        \n",
      " 5   segment              1085 non-null   object        \n",
      " 6   claim_id             1085 non-null   int64         \n",
      " 7   customer_id          1085 non-null   int64         \n",
      " 8   incident_cause       1085 non-null   object        \n",
      " 9   claim_date           1085 non-null   datetime64[ns]\n",
      " 10  claim_area           1085 non-null   object        \n",
      " 11  police_report        1085 non-null   object        \n",
      " 12  claim_type           1085 non-null   object        \n",
      " 13  claim_amount         1020 non-null   float64       \n",
      " 14  total_policy_claims  1075 non-null   float64       \n",
      " 15  fraudulent           1085 non-null   object        \n",
      " 16  alert_flag           432 non-null    object        \n",
      "dtypes: datetime64[ns](2), float64(2), int64(3), object(10)\n",
      "memory usage: 184.9+ KB\n"
     ]
    }
   ],
   "source": [
    "df.info()"
   ]
  },
  {
   "cell_type": "code",
   "execution_count": 122,
   "metadata": {},
   "outputs": [],
   "source": [
    "'''There are (65) null or NaN values in claim_amount, (10) total_policy_claims both are numeric columns. So will replace those with mean values.\n",
    "Note- The alert_flag column has so many nulls because we only made that flag for injury related claims. \n",
    "      So i dont think it makes any sense to impute that column with mode.  \n",
    "'''\n",
    "\n",
    "def fun(s):\n",
    "        s.loc[s.isnull()]=np.nanmean(s)\n",
    "        return s    \n",
    "\n",
    "df[['claim_amount',\"total_policy_claims\"]]=df[['claim_amount',\"total_policy_claims\"]].agg(fun)\n"
   ]
  },
  {
   "cell_type": "code",
   "execution_count": 123,
   "metadata": {},
   "outputs": [
    {
     "name": "stdout",
     "output_type": "stream",
     "text": [
      "<class 'pandas.core.frame.DataFrame'>\n",
      "Int64Index: 1085 entries, 0 to 1084\n",
      "Data columns (total 17 columns):\n",
      " #   Column               Non-Null Count  Dtype         \n",
      "---  ------               --------------  -----         \n",
      " 0   cust_id              1085 non-null   int64         \n",
      " 1   gender               1085 non-null   object        \n",
      " 2   dateofbirth          1085 non-null   datetime64[ns]\n",
      " 3   state                1085 non-null   object        \n",
      " 4   contact              1085 non-null   object        \n",
      " 5   segment              1085 non-null   object        \n",
      " 6   claim_id             1085 non-null   int64         \n",
      " 7   customer_id          1085 non-null   int64         \n",
      " 8   incident_cause       1085 non-null   object        \n",
      " 9   claim_date           1085 non-null   datetime64[ns]\n",
      " 10  claim_area           1085 non-null   object        \n",
      " 11  police_report        1085 non-null   object        \n",
      " 12  claim_type           1085 non-null   object        \n",
      " 13  claim_amount         1085 non-null   float64       \n",
      " 14  total_policy_claims  1085 non-null   float64       \n",
      " 15  fraudulent           1085 non-null   object        \n",
      " 16  alert_flag           432 non-null    object        \n",
      "dtypes: datetime64[ns](2), float64(2), int64(3), object(10)\n",
      "memory usage: 184.9+ KB\n"
     ]
    }
   ],
   "source": [
    "df.info()"
   ]
  },
  {
   "cell_type": "markdown",
   "metadata": {},
   "source": [
    "## 7. Calculate the age of customers in years. Based on the age, categorize the customers according to the below criteria\n",
    "Children < 18\n",
    "\n",
    "Youth 18-30\n",
    "\n",
    "Adult 30-60\n",
    "\n",
    "Senior > 60"
   ]
  },
  {
   "cell_type": "code",
   "execution_count": 124,
   "metadata": {},
   "outputs": [],
   "source": [
    "df[\"age\"]=(pd.to_datetime('today')-df.dateofbirth).astype(\"<m8[Y]\")"
   ]
  },
  {
   "cell_type": "code",
   "execution_count": 125,
   "metadata": {},
   "outputs": [
    {
     "data": {
      "text/plain": [
       "Adult     808\n",
       "Youth     169\n",
       "Senior    108\n",
       "Name: age_grp, dtype: int64"
      ]
     },
     "execution_count": 125,
     "metadata": {},
     "output_type": "execute_result"
    }
   ],
   "source": [
    "def fun(age):\n",
    "    if age>=18 and age<30:\n",
    "        return 'Youth'\n",
    "    elif age >=30 and age<60:\n",
    "        return \"Adult\"\n",
    "    elif age>=60:\n",
    "        return \"Senior\"\n",
    "    else:\n",
    "        return \"Children\"\n",
    "\n",
    "df[\"age_grp\"]=df.age.apply(fun)\n",
    "\n",
    "df.age_grp.value_counts()"
   ]
  },
  {
   "cell_type": "markdown",
   "metadata": {},
   "source": [
    "## 8. What is the average amount claimed by the customers from various segments?"
   ]
  },
  {
   "cell_type": "code",
   "execution_count": 126,
   "metadata": {},
   "outputs": [
    {
     "data": {
      "text/plain": [
       "segment\n",
       "Gold       12829.6\n",
       "Platinum   12342.0\n",
       "Silver     12208.4\n",
       "Name: claim_amount, dtype: float64"
      ]
     },
     "execution_count": 126,
     "metadata": {},
     "output_type": "execute_result"
    }
   ],
   "source": [
    "df.groupby('segment').claim_amount.mean()"
   ]
  },
  {
   "cell_type": "markdown",
   "metadata": {},
   "source": [
    "## 9. What is the total claim amount based on incident cause for all the claims that have been done at least 20 days prior to 1st of October, 2018."
   ]
  },
  {
   "cell_type": "code",
   "execution_count": 131,
   "metadata": {},
   "outputs": [
    {
     "data": {
      "text/plain": [
       "DatetimeIndex(['2018-10-01', '2018-09-30', '2018-09-29', '2018-09-28',\n",
       "               '2018-09-27', '2018-09-26', '2018-09-25', '2018-09-24',\n",
       "               '2018-09-23', '2018-09-22', '2018-09-21', '2018-09-20',\n",
       "               '2018-09-19', '2018-09-18', '2018-09-17', '2018-09-16',\n",
       "               '2018-09-15', '2018-09-14', '2018-09-13', '2018-09-12'],\n",
       "              dtype='datetime64[ns]', freq=None)"
      ]
     },
     "execution_count": 131,
     "metadata": {},
     "output_type": "execute_result"
    }
   ],
   "source": [
    "pd.to_datetime(date(2018,10,1))-pd.to_timedelta(np.arange(20), 'D')"
   ]
  },
  {
   "cell_type": "code",
   "execution_count": 129,
   "metadata": {},
   "outputs": [],
   "source": [
    "from datetime import datetime, date\n",
    "req_dates=pd.to_datetime(date(2018,10,1))-pd.to_timedelta(np.arange(20), 'D')"
   ]
  },
  {
   "cell_type": "code",
   "execution_count": 132,
   "metadata": {},
   "outputs": [
    {
     "data": {
      "text/plain": [
       "237448.86274509804"
      ]
     },
     "execution_count": 132,
     "metadata": {},
     "output_type": "execute_result"
    }
   ],
   "source": [
    "df.loc[df.claim_date.isin(req_dates)][\"claim_amount\"].sum()"
   ]
  },
  {
   "cell_type": "markdown",
   "metadata": {},
   "source": [
    "## 10. How many adults from TX, DE and AK claimed insurance for driver related issues and causes?"
   ]
  },
  {
   "cell_type": "code",
   "execution_count": 138,
   "metadata": {},
   "outputs": [
    {
     "data": {
      "text/plain": [
       "26"
      ]
     },
     "execution_count": 138,
     "metadata": {},
     "output_type": "execute_result"
    }
   ],
   "source": [
    "# driver_causes\n",
    "df.loc[(df.age_grp==\"Adult\") & (df.incident_cause.str.contains('driver',case=False)) & (df.state.isin(['TX','DE','AK'])) ].cust_id.value_counts().size"
   ]
  },
  {
   "cell_type": "markdown",
   "metadata": {},
   "source": [
    "- Only 26 adults have made total 27 claims in incidents caused by driver from these ['TX','DE','AK'] states and clearly one of the 26 adults has made 2 claims."
   ]
  },
  {
   "cell_type": "markdown",
   "metadata": {},
   "source": [
    "## 11. Draw a pie chart between the aggregated value of claim amount based on gender and segment. Represent the claim amount as a percentage on the pie chart."
   ]
  },
  {
   "cell_type": "code",
   "execution_count": 186,
   "metadata": {},
   "outputs": [
    {
     "data": {
      "image/png": "[encoded data removed]",
      "text/plain": [
       "<Figure size 900x700 with 1 Axes>"
      ]
     },
     "metadata": {},
     "output_type": "display_data"
    }
   ],
   "source": [
    "plt.title('Gender & Segment wise Claim Amount Distribution')\n",
    "df.groupby(['segment','gender']).claim_amount.sum().plot(kind='pie',autopct=\"%.1f%%\",figsize=(9,7))\n",
    "plt.ylabel(\"\")\n",
    "plt.show()"
   ]
  },
  {
   "cell_type": "markdown",
   "metadata": {},
   "source": [
    "## 12. Among males and females, which gender had claimed the most for any type of driver related issues?"
   ]
  },
  {
   "cell_type": "code",
   "execution_count": 140,
   "metadata": {},
   "outputs": [],
   "source": [
    "driver_related_claims=df[df.incident_cause.str.contains(\"driver\",case=False)]"
   ]
  },
  {
   "cell_type": "code",
   "execution_count": 141,
   "metadata": {},
   "outputs": [
    {
     "data": {
      "image/png": "[encoded data removed]",
      "text/plain": [
       "<Figure size 640x480 with 1 Axes>"
      ]
     },
     "metadata": {},
     "output_type": "display_data"
    }
   ],
   "source": [
    "driver_related_claims.groupby('gender').size().plot(kind='bar')\n",
    "plt.title('Gender wise Comparison on driving related claims')\n",
    "plt.ylabel('Total claims')\n",
    "plt.xlabel('Gender')\n",
    "plt.yticks([0,50,100,150,200,250,300])\n",
    "plt.xticks(rotation=0)\n",
    "plt.show()"
   ]
  },
  {
   "cell_type": "markdown",
   "metadata": {},
   "source": [
    "## 13. Which age group had the maximum fraudulent policy claims? Visualize it on a bar chart."
   ]
  },
  {
   "cell_type": "code",
   "execution_count": 142,
   "metadata": {},
   "outputs": [
    {
     "data": {
      "image/png": "[encoded data removed]",
      "text/plain": [
       "<Figure size 640x480 with 1 Axes>"
      ]
     },
     "metadata": {},
     "output_type": "display_data"
    }
   ],
   "source": [
    "df[df.fraudulent=='Yes'].groupby('age_grp').size().plot(kind='bar')\n",
    "plt.xticks(rotation=0)\n",
    "plt.xlabel('Age Group')\n",
    "plt.ylabel(' Total claims')\n",
    "plt.title('Age group wise fraudulent claims')\n",
    "plt.show()"
   ]
  },
  {
   "cell_type": "markdown",
   "metadata": {},
   "source": [
    "## 14. Visualize the monthly trend of the total amount that has been claimed by the customers. Ensure that on the “month” axis, the month is in a chronological order not alphabetical order."
   ]
  },
  {
   "cell_type": "code",
   "execution_count": 144,
   "metadata": {},
   "outputs": [],
   "source": [
    "df['claim_year']=df.claim_date.dt.year"
   ]
  },
  {
   "cell_type": "code",
   "execution_count": 145,
   "metadata": {},
   "outputs": [
    {
     "data": {
      "image/png": "[encoded data removed]",
      "text/plain": [
       "<Figure size 1200x500 with 1 Axes>"
      ]
     },
     "metadata": {},
     "output_type": "display_data"
    }
   ],
   "source": [
    "grped=df.groupby([df['claim_year'],df.claim_date.dt.month]).claim_amount.sum().reset_index()\n",
    "\n",
    "plt.figure(figsize=(12,5))\n",
    "plt.title('Monthly trend in total amount claimed')\n",
    "sns.lineplot(grped, x='claim_date',y='claim_amount',hue='claim_year',palette='Set1')\n",
    "plt.xticks(grped.reset_index().claim_date.unique(),['Jan','Feb','Mar','Apr','May','Jun','Jul','Aug','Sep','Oct','Nov','Dec'])\n",
    "plt.xlabel('Month')\n",
    "plt.ylabel('Total Amt claimed')\n",
    "plt.show()"
   ]
  },
  {
   "cell_type": "markdown",
   "metadata": {},
   "source": [
    "## 15. What is the average claim amount for gender and age categories and suitably represent the above using a facetted bar chart, one facet that represents fraudulent claims and the other for non-fraudulent claims."
   ]
  },
  {
   "cell_type": "code",
   "execution_count": 146,
   "metadata": {},
   "outputs": [
    {
     "data": {
      "image/png": "[encoded data removed]",
      "text/plain": [
       "<Figure size 1100.25x500 with 2 Axes>"
      ]
     },
     "metadata": {},
     "output_type": "display_data"
    }
   ],
   "source": [
    "sns.catplot(df.groupby(['gender','age_grp','fraudulent']).claim_amount.mean().reset_index().sort_values(by='claim_amount',ascending=False), \\\n",
    "            kind='bar',x='age_grp',y='claim_amount',hue='gender',col='fraudulent',errorbar=None,sharex=True)\n",
    "plt.show()"
   ]
  },
  {
   "cell_type": "markdown",
   "metadata": {},
   "source": [
    "## 16. Is there any similarity in the amount claimed by males and females?"
   ]
  },
  {
   "cell_type": "code",
   "execution_count": 147,
   "metadata": {},
   "outputs": [],
   "source": [
    "pop_male=df[df.gender=='Male'].claim_amount\n",
    "pop_female=df[df.gender=='Female'].claim_amount"
   ]
  },
  {
   "cell_type": "markdown",
   "metadata": {},
   "source": [
    "### Independent two sample t test\n",
    "#### H0: No significant difference between the amt claimed by males and females\n",
    "#### Ha: there is significant diff between the amt claimed by M and F"
   ]
  },
  {
   "cell_type": "markdown",
   "metadata": {},
   "source": [
    "#### **Assumptions**\n",
    "- Independent observations in both samples\n",
    "- Normality check for both samples\n",
    "- Homoescadasticity check i.e variances approximately equal\n",
    "- Random sampling "
   ]
  },
  {
   "cell_type": "code",
   "execution_count": 148,
   "metadata": {},
   "outputs": [
    {
     "data": {
      "text/plain": [
       "'There are mo extreme or outliers as can be seen through box plot infact there distribution is nearly equal as well.'"
      ]
     },
     "execution_count": 148,
     "metadata": {},
     "output_type": "execute_result"
    },
    {
     "data": {
      "image/png": "[encoded data removed]",
      "text/plain": [
       "<Figure size 640x480 with 1 Axes>"
      ]
     },
     "metadata": {},
     "output_type": "display_data"
    }
   ],
   "source": [
    "'''Checking if outliers are there or not'''\n",
    "sns.boxplot(df,x='gender',y='claim_amount')\n",
    "\n",
    "'''There are mo extreme or outliers as can be seen through box plot infact there distribution is nearly equal as well.'''\n"
   ]
  },
  {
   "cell_type": "code",
   "execution_count": 152,
   "metadata": {},
   "outputs": [],
   "source": [
    "'''Since genders are independent of one another so first assumption is satisfied.'''\n",
    "''' lets also take random sample of 50 from each populations/groups. '''\n",
    "sample_male=pop_male.sample(50)\n",
    "sample_female=pop_female.sample(50)"
   ]
  },
  {
   "cell_type": "code",
   "execution_count": 588,
   "metadata": {},
   "outputs": [
    {
     "name": "stdout",
     "output_type": "stream",
     "text": [
      " shapiro test for male: ShapiroResult(statistic=0.7313628196716309, pvalue=3.1660157162605174e-08)\n",
      "shapiro test for female: ShapiroResult(statistic=0.7926698923110962, pvalue=5.967754646007961e-07)\n"
     ]
    }
   ],
   "source": [
    "'''Normality check using shapiro test'''\n",
    "# Ho: the dist is normal\n",
    "# Ha: the dist is not normal\n",
    "alpha=0.05 \n",
    "\n",
    "\n",
    "from scipy.stats import shapiro\n",
    "\n",
    "shapiro_male=shapiro(sample_male)\n",
    "shapiro_female=shapiro(sample_female)\n",
    "\n",
    "print(\" shapiro test for male:\",shapiro_male)\n",
    "print(\"shapiro test for female:\",shapiro_female)\n",
    "\n"
   ]
  },
  {
   "cell_type": "markdown",
   "metadata": {},
   "source": [
    "- As per shapiro test our data is not normal but since our sample size is more than 30 we can ignore or violate this assumption as per central limit theorem. "
   ]
  },
  {
   "cell_type": "code",
   "execution_count": 589,
   "metadata": {},
   "outputs": [
    {
     "name": "stdout",
     "output_type": "stream",
     "text": [
      "LeveneResult(statistic=0.14825183001985798, pvalue=0.701045987544944)\n"
     ]
    },
    {
     "data": {
      "text/plain": [
       "'Since p-value is higher than 0.05 therefore we fail to reject null i.e the assumption of nearly equal variances is satisfied'"
      ]
     },
     "execution_count": 589,
     "metadata": {},
     "output_type": "execute_result"
    }
   ],
   "source": [
    "'''Homosescadasticity of our samples'''\n",
    "# Ho: the sample variances are similar\n",
    "# Ha: the sample variances are significantly different\n",
    "\n",
    "from scipy.stats import levene\n",
    "\n",
    "levene_test = levene(sample_male, sample_female)\n",
    "print(levene_test)\n",
    "\n",
    "'''Since p-value is higher than 0.05 therefore we fail to reject null i.e \n",
    "we could not find enough evidence to conclude that the variances are significantly differenet.'''\n"
   ]
  },
  {
   "cell_type": "code",
   "execution_count": 158,
   "metadata": {},
   "outputs": [
    {
     "name": "stdout",
     "output_type": "stream",
     "text": [
      "0.4140152711889578 0.679767640951035\n"
     ]
    }
   ],
   "source": [
    "from scipy.stats import ttest_ind\n",
    "t_statistic,p_value = ttest_ind(sample_male,sample_female)\n",
    "print(t_statistic,p_value)"
   ]
  },
  {
   "cell_type": "code",
   "execution_count": 590,
   "metadata": {},
   "outputs": [
    {
     "name": "stdout",
     "output_type": "stream",
     "text": [
      "-0.3632066856728474 0.7172327604092217\n"
     ]
    }
   ],
   "source": [
    "'''Lets perform the test now'''\n",
    "\n",
    "t_statistic,p_value = stats.ttest_ind(sample_male,sample_female)\n",
    "print(t_statistic,p_value)"
   ]
  },
  {
   "cell_type": "markdown",
   "metadata": {},
   "source": [
    "- Since your p-value is 0.71, which is greater than the significance level of 0.05, so **we fail to reject the null hypothesis.** \n",
    "\n",
    "- We do not have enough evidence against the null to conclude that there is a significant difference between the amount claimed by males and females.\n",
    "\n"
   ]
  },
  {
   "cell_type": "code",
   "execution_count": 541,
   "metadata": {},
   "outputs": [
    {
     "data": {
      "text/plain": [
       "(12062.63470662367, 12853.058506136267)"
      ]
     },
     "execution_count": 541,
     "metadata": {},
     "output_type": "execute_result"
    }
   ],
   "source": [
    "pop_female.mean(),pop_male.mean() \n",
    "\n",
    "'''This difference between the avgerages is not statistically significant at the chosen significance level of 5%.'''"
   ]
  },
  {
   "cell_type": "markdown",
   "metadata": {},
   "source": [
    "#### Also lets try non parametric test for two independent samples"
   ]
  },
  {
   "cell_type": "code",
   "execution_count": 159,
   "metadata": {},
   "outputs": [
    {
     "name": "stdout",
     "output_type": "stream",
     "text": [
      "Mann-Whitney U statistic: 1355.5\n",
      "p-value: 0.4690784708294664\n"
     ]
    }
   ],
   "source": [
    "from scipy.stats import mannwhitneyu\n",
    "\n",
    "'''Doing this because to this test the normality doesnt matter.'''\n",
    "statistic, p_value = mannwhitneyu(sample_male, sample_female)\n",
    "\n",
    "# Print the test statistic and p-value\n",
    "print(\"Mann-Whitney U statistic:\", statistic)\n",
    "print(\"p-value:\", p_value)"
   ]
  },
  {
   "cell_type": "markdown",
   "metadata": {},
   "source": [
    "- conclusion is still the same as p>0.05. "
   ]
  },
  {
   "cell_type": "markdown",
   "metadata": {},
   "source": [
    "## 17. Is there any relationship between age category and segment?"
   ]
  },
  {
   "cell_type": "markdown",
   "metadata": {},
   "source": [
    "### Chi sq test\n",
    "\n",
    "- It is used to study the association between the two categorical variables.\n",
    "- It is a non parametric test because it doesnt make use of any famous distribution like in parametric tests.\n",
    "\n",
    "**Assumptions**\n",
    "- independence of observations\n",
    "- random sampling\n",
    "-mutually exclusive categories ie each observation should fall in one category for each variable."
   ]
  },
  {
   "cell_type": "markdown",
   "metadata": {},
   "source": [
    "#### Ho: There is no relationship/association between age grp and segment\n",
    "#### Ha: There is relationship bw the age grp and segment"
   ]
  },
  {
   "cell_type": "code",
   "execution_count": 160,
   "metadata": {},
   "outputs": [
    {
     "data": {
      "text/html": [
       "<div>\n",
       "<style scoped>\n",
       "    .dataframe tbody tr th:only-of-type {\n",
       "        vertical-align: middle;\n",
       "    }\n",
       "\n",
       "    .dataframe tbody tr th {\n",
       "        vertical-align: top;\n",
       "    }\n",
       "\n",
       "    .dataframe thead th {\n",
       "        text-align: right;\n",
       "    }\n",
       "</style>\n",
       "<table border=\"1\" class=\"dataframe\">\n",
       "  <thead>\n",
       "    <tr style=\"text-align: right;\">\n",
       "      <th>segment</th>\n",
       "      <th>Gold</th>\n",
       "      <th>Platinum</th>\n",
       "      <th>Silver</th>\n",
       "    </tr>\n",
       "    <tr>\n",
       "      <th>age_grp</th>\n",
       "      <th></th>\n",
       "      <th></th>\n",
       "      <th></th>\n",
       "    </tr>\n",
       "  </thead>\n",
       "  <tbody>\n",
       "    <tr>\n",
       "      <th>Adult</th>\n",
       "      <td>283</td>\n",
       "      <td>268</td>\n",
       "      <td>257</td>\n",
       "    </tr>\n",
       "    <tr>\n",
       "      <th>Senior</th>\n",
       "      <td>39</td>\n",
       "      <td>35</td>\n",
       "      <td>34</td>\n",
       "    </tr>\n",
       "    <tr>\n",
       "      <th>Youth</th>\n",
       "      <td>53</td>\n",
       "      <td>59</td>\n",
       "      <td>57</td>\n",
       "    </tr>\n",
       "  </tbody>\n",
       "</table>\n",
       "</div>"
      ],
      "text/plain": [
       "segment  Gold  Platinum  Silver\n",
       "age_grp                        \n",
       "Adult     283       268     257\n",
       "Senior     39        35      34\n",
       "Youth      53        59      57"
      ]
     },
     "execution_count": 160,
     "metadata": {},
     "output_type": "execute_result"
    }
   ],
   "source": [
    "contin_tab=pd.crosstab(df.age_grp,df.segment)\n",
    "contin_tab"
   ]
  },
  {
   "cell_type": "code",
   "execution_count": 593,
   "metadata": {},
   "outputs": [
    {
     "name": "stdout",
     "output_type": "stream",
     "text": [
      "p-value: 0.9731256648397683 \n",
      " Chi_statistic: 0.503844234668771\n"
     ]
    }
   ],
   "source": [
    "from scipy.stats import chi2_contingency\n",
    "\n",
    "chi_statistic,p_value,dof,expected_freq=chi2_contingency(contin_tab,)\n",
    "print(\"p-value:\",p_value,\"\\n\",\"Chi_statistic:\",chi_statistic)"
   ]
  },
  {
   "cell_type": "markdown",
   "metadata": {},
   "source": [
    "The p value is higher than the significance level of 0.05 so **we fail to reject null.** \n",
    "\n",
    "We dont have sufficient evidence against the null to conclude that the there is a significant relationship between the two variables."
   ]
  },
  {
   "cell_type": "code",
   "execution_count": 594,
   "metadata": {},
   "outputs": [
    {
     "data": {
      "text/plain": [
       "array([[ 1.39170507, -0.91520737, -0.4764977 ],\n",
       "       [ 2.05529954, -0.69861751, -1.35668203],\n",
       "       [-3.44700461,  1.61382488,  1.83317972]])"
      ]
     },
     "execution_count": 594,
     "metadata": {},
     "output_type": "execute_result"
    }
   ],
   "source": [
    "contin_tab.values-expected_freq  \n",
    "\n",
    "'''We can see that there is no significant difference between the expected and observed frequency as well which we just proved it above Statistically.'''"
   ]
  },
  {
   "cell_type": "markdown",
   "metadata": {},
   "source": [
    "## 18. The current year has shown a significant rise in claim amounts as compared to 2016-17 fiscal average which was $10,000."
   ]
  },
  {
   "cell_type": "markdown",
   "metadata": {},
   "source": [
    "### single sample t test\n",
    "\n",
    "#### Ho: The mean claim amount for the year 2017-18 is equal to $10,000.\n",
    "#### Ha: The mean claim amount for the year 2017-18 is greater than $10,000."
   ]
  },
  {
   "cell_type": "code",
   "execution_count": 181,
   "metadata": {},
   "outputs": [],
   "source": [
    "'''We are making comparison between FYI 2016-17 and 2017-18'''\n",
    "\n",
    "claim_amt_2017= df[df.claim_date.dt.year==2017].claim_amount"
   ]
  },
  {
   "cell_type": "code",
   "execution_count": 182,
   "metadata": {},
   "outputs": [],
   "source": [
    "sample=claim_amt_2017.sample(50)   # Taking a sample from current year (2017-18)"
   ]
  },
  {
   "cell_type": "code",
   "execution_count": 183,
   "metadata": {},
   "outputs": [
    {
     "name": "stdout",
     "output_type": "stream",
     "text": [
      "ShapiroResult(statistic=0.853337287902832, pvalue=1.9072476789006032e-05)\n"
     ]
    },
    {
     "data": {
      "text/plain": [
       "'Since n>=30 i.e n=50 so because of CLT it is safe to ignore this violation.'"
      ]
     },
     "execution_count": 183,
     "metadata": {},
     "output_type": "execute_result"
    }
   ],
   "source": [
    "'''Assumptions:\n",
    "1. random sampling: done\n",
    "2. independence: done\n",
    "3. pop std unknown: done\n",
    "4. Normality: will check now \n",
    "'''\n",
    "# check for normality using Shapiro Wilk test \n",
    "# if p<0.05 not normal else it is normal\n",
    "from scipy.stats import shapiro\n",
    "\n",
    "shapiro_age = shapiro(sample)\n",
    "\n",
    "print(shapiro_age)\n",
    "\n",
    "'''Since n>=30 i.e n=50 so because of CLT it is safe to ignore this violation.'''"
   ]
  },
  {
   "cell_type": "code",
   "execution_count": 184,
   "metadata": {},
   "outputs": [
    {
     "name": "stdout",
     "output_type": "stream",
     "text": [
      "t-statistic: 2.521159469041504\n",
      "p-value: 0.007500121929162678\n"
     ]
    }
   ],
   "source": [
    "import scipy.stats as stats\n",
    "\n",
    "pop_mean=10000                         # Prev year (2016-17) avg claim amount. \n",
    "t_statistic, p_value = stats.ttest_1samp(sample,pop_mean)   \n",
    "\n",
    "print(\"t-statistic:\", t_statistic)\n",
    "print(\"p-value:\", p_value/2)  # div by 2 bcz by default the func does two sided test and we need one tailed."
   ]
  },
  {
   "cell_type": "markdown",
   "metadata": {},
   "source": [
    "The p-value is lower than significance level of 0.05 hence **we reject the null**\n",
    "\n",
    "We found strong evidence (from the sample/data we used) against the null to conclude that the avg claim amount for 2017-18 is significantly more than 10000 which is of the previous year (2016-17)."
   ]
  },
  {
   "cell_type": "code",
   "execution_count": 601,
   "metadata": {},
   "outputs": [
    {
     "data": {
      "text/plain": [
       "12277.55037215555"
      ]
     },
     "execution_count": 601,
     "metadata": {},
     "output_type": "execute_result"
    }
   ],
   "source": [
    "claim_amt_2017.mean()   \n",
    "'''The actual pop mean is 12.2k which is much higher than 10k which we just proved statistically.'''"
   ]
  },
  {
   "cell_type": "markdown",
   "metadata": {},
   "source": [
    "## 19. Is there any difference between age groups and insurance claims?\n"
   ]
  },
  {
   "cell_type": "code",
   "execution_count": 163,
   "metadata": {},
   "outputs": [
    {
     "data": {
      "text/plain": [
       "<Axes: xlabel='age_grp', ylabel='claim_amount'>"
      ]
     },
     "execution_count": 163,
     "metadata": {},
     "output_type": "execute_result"
    },
    {
     "data": {
      "image/png": "[encoded data removed]",
      "text/plain": [
       "<Figure size 640x480 with 1 Axes>"
      ]
     },
     "metadata": {},
     "output_type": "display_data"
    }
   ],
   "source": [
    "''' Checking if outliers are there in each groups.'''\n",
    "sns.boxplot(df,y='claim_amount',x=\"age_grp\")\n",
    "\n",
    "# No outliers as per the box plot\n"
   ]
  },
  {
   "cell_type": "code",
   "execution_count": 164,
   "metadata": {},
   "outputs": [
    {
     "data": {
      "text/plain": [
       "<Axes: xlabel='claim_amount', ylabel='Density'>"
      ]
     },
     "execution_count": 164,
     "metadata": {},
     "output_type": "execute_result"
    },
    {
     "data": {
      "image/png": "[encoded data removed]",
      "text/plain": [
       "<Figure size 640x480 with 1 Axes>"
      ]
     },
     "metadata": {},
     "output_type": "display_data"
    }
   ],
   "source": [
    "sns.kdeplot(df,x='claim_amount',hue=\"age_grp\")"
   ]
  },
  {
   "cell_type": "markdown",
   "metadata": {},
   "source": [
    "### ANOVA test\n",
    "\n",
    "**Assumptions**\n",
    "- Data in each group should be normally distributed\n",
    "- Homoscedasticity \n",
    "- each grp/sample must be independent\n",
    "\n",
    "#### Ho: There is no significant difference between the avg claim amt across each grp\n",
    "#### Ha:  There is atleast one grp which has significantly different avg claim amt than others"
   ]
  },
  {
   "cell_type": "code",
   "execution_count": 165,
   "metadata": {},
   "outputs": [
    {
     "data": {
      "text/plain": [
       "((169,), (108,), (808,))"
      ]
     },
     "execution_count": 165,
     "metadata": {},
     "output_type": "execute_result"
    }
   ],
   "source": [
    "adult=df.loc[df.age_grp=='Adult','claim_amount']\n",
    "youth=df.loc[df.age_grp=='Youth','claim_amount']\n",
    "senior= df.loc[df.age_grp=='Senior','claim_amount']\n",
    "youth.shape,senior.shape,adult.shape"
   ]
  },
  {
   "cell_type": "code",
   "execution_count": 166,
   "metadata": {},
   "outputs": [],
   "source": [
    "'''Since each of our grp is not normally distributed but as per CLT we have a sample size for each grp >30  \n",
    "   so we can assume that our grps are normally dist as per CLT.'''\n",
    "\n",
    "sample_adult=adult.sample(60)\n",
    "sample_youth=youth.sample(60)\n",
    "sample_senior=senior.sample(60)"
   ]
  },
  {
   "cell_type": "code",
   "execution_count": 615,
   "metadata": {},
   "outputs": [
    {
     "name": "stdout",
     "output_type": "stream",
     "text": [
      "LeveneResult(statistic=0.8640787331075195, pvalue=0.42320959324850915)\n"
     ]
    }
   ],
   "source": [
    "'''Homosescadasticity of each grp'''\n",
    "# Ho: the sample variances are similar i.e homogeniety of variances\n",
    "# Ha: the sample variances are significantly different i.e heterogeniety of variances\n",
    "\n",
    "from scipy.stats import levene\n",
    "\n",
    "levene_test = levene(sample_adult, sample_youth,sample_senior)\n",
    "print(levene_test)\n"
   ]
  },
  {
   "cell_type": "code",
   "execution_count": 617,
   "metadata": {},
   "outputs": [
    {
     "name": "stdout",
     "output_type": "stream",
     "text": [
      "F-Statistic: 0.7996433872518025\n",
      "P-value: 0.4511062382663251\n"
     ]
    }
   ],
   "source": [
    "from scipy.stats import f_oneway\n",
    "f_statistic, p_value = f_oneway(sample_adult,sample_youth,sample_senior)\n",
    "\n",
    "# Set significance level\n",
    "alpha = 0.05\n",
    "\n",
    "# Print the results\n",
    "print(\"F-Statistic:\", f_statistic)\n",
    "print(\"P-value:\", p_value)\n"
   ]
  },
  {
   "cell_type": "markdown",
   "metadata": {},
   "source": [
    "Since p is greater than 0.05 (significance level) **we fail to reject the null.**\n",
    "\n",
    "So there is insuffient evidence to conclude that there is significant difference in the avg claim amount across the grps. "
   ]
  },
  {
   "cell_type": "code",
   "execution_count": 618,
   "metadata": {},
   "outputs": [
    {
     "data": {
      "text/plain": [
       "(12616.176961390243, 12525.34114227086, 11217.196644042233)"
      ]
     },
     "execution_count": 618,
     "metadata": {},
     "output_type": "execute_result"
    }
   ],
   "source": [
    "adult.mean(),youth.mean(),senior.mean()"
   ]
  },
  {
   "cell_type": "markdown",
   "metadata": {},
   "source": [
    "## 20. Is there any relationship between total number of policy claims and the claimed amount?"
   ]
  },
  {
   "cell_type": "code",
   "execution_count": 621,
   "metadata": {},
   "outputs": [
    {
     "data": {
      "text/plain": [
       "1.0    785\n",
       "2.0    105\n",
       "3.0     86\n",
       "4.0     59\n",
       "5.0     27\n",
       "6.0     10\n",
       "1.6     10\n",
       "7.0      2\n",
       "8.0      1\n",
       "Name: total_policy_claims, dtype: int64"
      ]
     },
     "execution_count": 621,
     "metadata": {},
     "output_type": "execute_result"
    }
   ],
   "source": [
    "df.total_policy_claims.value_counts()"
   ]
  },
  {
   "cell_type": "markdown",
   "metadata": {},
   "source": [
    "Due to this highly imbalanced distribution of total policy claims in our dataset i cant use anova as the power of our statistical test would be reduced.\n",
    "\n",
    "Therefore i will be doing correlation analysis which is more robust to imbalanced data and flexible in handling non normality of data as well"
   ]
  },
  {
   "cell_type": "markdown",
   "metadata": {},
   "source": [
    "### Correlation analysis\n",
    "\n",
    "#### Ho: No significant correlation between total policy claims and claim amount\n",
    "#### Ha: There is significant correlation between total policy claims and claim amount"
   ]
  },
  {
   "cell_type": "code",
   "execution_count": 167,
   "metadata": {},
   "outputs": [
    {
     "name": "stdout",
     "output_type": "stream",
     "text": [
      "Correlation Coefficient: -0.01744856239346896\n",
      "P-value: 0.5658830110321474\n"
     ]
    }
   ],
   "source": [
    "from scipy.stats import pearsonr\n",
    "# Performing Pearson correlation test\n",
    "correlation_coefficient, p_value = pearsonr(df['total_policy_claims'], df['claim_amount'])\n",
    "\n",
    "# Printing correlation coefficient and p-value\n",
    "print(\"Correlation Coefficient:\", correlation_coefficient)\n",
    "print(\"P-value:\", p_value)"
   ]
  },
  {
   "cell_type": "markdown",
   "metadata": {},
   "source": [
    "The corr coeff is very small and is negative indicating a very weak negative correlation between the the variables.\n",
    "\n",
    "The p value itself indicating that we fail to reject which means we have insufficient evidence to conclude that there is significant correlation between the two variables i.e the correlation is not statistically significant at 0.05 significance level."
   ]
  },
  {
   "cell_type": "markdown",
   "metadata": {},
   "source": []
  }
 ],
 "metadata": {
  "kernelspec": {
   "display_name": "Python 3",
   "language": "python",
   "name": "python3"
  },
  "language_info": {
   "codemirror_mode": {
    "name": "ipython",
    "version": 3
   },
   "file_extension": ".py",
   "mimetype": "text/x-python",
   "name": "python",
   "nbconvert_exporter": "python",
   "pygments_lexer": "ipython3",
   "version": "3.11.2"
  }
 },
 "nbformat": 4,
 "nbformat_minor": 2
}
